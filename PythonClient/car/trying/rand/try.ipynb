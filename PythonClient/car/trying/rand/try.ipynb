{
 "cells": [
  {
   "cell_type": "code",
   "execution_count": 1,
   "id": "c215117c",
   "metadata": {},
   "outputs": [
    {
     "name": "stdout",
     "output_type": "stream",
     "text": [
      "5516\n",
      "3028\n"
     ]
    }
   ],
   "source": [
    "# Get the length if npy\n",
    "import sys\n",
    "import os\n",
    "import numpy as np\n",
    "def get_npy_length(filename):\n",
    "    if not os.path.exists(filename):\n",
    "        raise FileNotFoundError(f\"File {filename} does not exist.\")\n",
    "    try:\n",
    "        data = np.load(filename, allow_pickle=True)\n",
    "        return len(data)\n",
    "    except Exception as e:\n",
    "        raise RuntimeError(f\"Error loading {filename}: {e}\")\n",
    "print(get_npy_length(\"data/0/2_labels.npy\"))\n",
    "print(get_npy_length(\"output/0/labels/2.npy\"))"
   ]
  },
  {
   "cell_type": "code",
   "execution_count": 19,
   "id": "7a35fd08",
   "metadata": {},
   "outputs": [
    {
     "name": "stdout",
     "output_type": "stream",
     "text": [
      "Processed sequence 0 with 93 frames.\n",
      "Processed sequence 1 with 167 frames.\n",
      "Processed sequence 2 with 1363 frames.\n",
      "Processed sequence 3 with 436 frames.\n",
      "Processed sequence 4 with 291 frames.\n",
      "Processed sequence 5 with 44 frames.\n",
      "Processed sequence 6 with 1170 frames.\n",
      "Processed sequence 7 with 1545 frames.\n"
     ]
    }
   ],
   "source": [
    "import os\n",
    "import numpy as np\n",
    "# import open3d as o3d\n",
    "\n",
    "# ─── CONFIG ────────────────────────────────────────────────────────────────\n",
    "output_dir   = 'output'                 # root of your data\n",
    "results_root ='result'\n",
    "velo_root    = output_dir               # 'output/<seq>/velodyne/<i>.npy'\n",
    "\n",
    "# define your color map for labels\n",
    "label_to_color = {\n",
    "    0: (0.0, 0.0, 0.0),  # background → black\n",
    "    1: (0.0, 1.0, 0.0),  # class 1  → green\n",
    "    2: (1.0, 0.0, 0.0),  # class 2  → red\n",
    "    # … add more if you have more classes\n",
    "}\n",
    "\n",
    "# ─── PROCESS EACH SEQUENCE ─────────────────────────────────────────────────\n",
    "for seq in sorted(os.listdir(results_root)):\n",
    "\n",
    "    seq_pred_dir = os.path.join(results_root, seq, 'predictions')\n",
    "    seq_velo_dir      = os.path.join(output_dir, seq, 'velodyne')\n",
    "    seq_original_dir  = os.path.join(output_dir, seq, 'labels')\n",
    "\n",
    "    # # iterate frames in numeric order\n",
    "    for fname in sorted(os.listdir(seq_pred_dir), key=lambda x: int(os.path.splitext(x)[0])):\n",
    "        \n",
    "        if not fname.endswith('.npy'):\n",
    "            continue\n",
    "        # paths\n",
    "        pred_path  = os.path.join(seq_pred_dir,    fname)\n",
    "        label_path = os.path.join(seq_original_dir, fname)\n",
    "\n",
    "        pred = np.load(pred_path)    # e.g. shape (3067,)\n",
    "        orig = np.load(label_path)   # e.g. shape (3067,1) or (3067,)\n",
    "\n",
    "        # remember the original shape & dtype\n",
    "        orig_shape = orig.shape\n",
    "        orig_dtype = orig.dtype\n",
    "\n",
    "        # flatten both\n",
    "        pred_flat = pred.ravel()     # shape (N,)\n",
    "        orig_flat = orig.ravel()     # shape (N,)\n",
    "\n",
    "        # sanity‐check size\n",
    "        if pred_flat.size != orig_flat.size:\n",
    "            print(f\"⚠ size mismatch in {seq}/{fname}: \"\n",
    "                  f\"pred_flat.size={pred_flat.size}, orig_flat.size={orig_flat.size} → skipping\")\n",
    "            continue\n",
    "\n",
    "        # mask‐overwrite\n",
    "        adjusted_flat = pred_flat.copy()\n",
    "        mask = (orig_flat != 0)\n",
    "        adjusted_flat[mask] = orig_flat[mask]\n",
    "\n",
    "        # reshape back to original GT shape & dtype\n",
    "        adjusted = adjusted_flat.reshape(orig_shape).astype(orig_dtype)\n",
    "        # print(adjusted.shape, orig.shape)\n",
    "        # overwrite the original label file in-place\n",
    "        np.save(label_path, adjusted)\n",
    "    print(f\"Processed sequence {seq} with {len(os.listdir(seq_pred_dir))} frames.\")\n",
    "        # save adjusted\n",
    "        # # out_path = os.path.join(seq_adjusted_dir, fname)\n",
    "        # # np.save(out_path, adjusted)\n",
    "        # # print(f\"  ✔ adjusted saved: {out_path}\")\n",
    "\n",
    "        # # ─── VISUALIZE ─────────────────────────────────────────────────────\n",
    "        # points = np.load(velo_path)          # shape (N,4)\n",
    "        # labels = adjusted.astype(int).ravel()# shape (N,)\n",
    "\n",
    "        # xyz = points[:, :3]\n",
    "        # pcd = o3d.geometry.PointCloud()\n",
    "        # pcd.points = o3d.utility.Vector3dVector(xyz)\n",
    "\n",
    "        # # apply color mapping\n",
    "        # colors = np.array([ label_to_color.get(lbl, (0.5,0.5,0.5)) \n",
    "        #                     for lbl in gt ], dtype=np.float64)\n",
    "        # pcd.colors = o3d.utility.Vector3dVector(colors)\n",
    "\n",
    "        # o3d.visualization.draw_geometries([pcd])\n",
    "        # print(f\"Visualized frame {frame_id} with original labels.\")\n",
    "        # # visualuize adjusted\n",
    "        # adjusted_colors = np.array([ label_to_color.get(lbl, (0.5,0.5,0.5)) \n",
    "        #                              for lbl in labels ], dtype=np.float64)\n",
    "        # pcd.colors = o3d.utility.Vector3dVector(adjusted_colors)\n",
    "        # o3d.visualization.draw_geometries([pcd])\n",
    "        # print(f\"Visualized frame {frame_id} with adjusted labels.\")\n"
   ]
  },
  {
   "cell_type": "code",
   "execution_count": null,
   "id": "abf335e5",
   "metadata": {},
   "outputs": [],
   "source": [
    "# An"
   ]
  }
 ],
 "metadata": {
  "kernelspec": {
   "display_name": "point",
   "language": "python",
   "name": "python3"
  },
  "language_info": {
   "codemirror_mode": {
    "name": "ipython",
    "version": 3
   },
   "file_extension": ".py",
   "mimetype": "text/x-python",
   "name": "python",
   "nbconvert_exporter": "python",
   "pygments_lexer": "ipython3",
   "version": "3.6.13"
  }
 },
 "nbformat": 4,
 "nbformat_minor": 5
}
